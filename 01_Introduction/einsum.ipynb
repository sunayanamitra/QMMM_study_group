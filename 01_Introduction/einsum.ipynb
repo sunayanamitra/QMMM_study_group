{
 "cells": [
  {
   "cell_type": "markdown",
   "metadata": {},
   "source": [
    "# Einstein Notation and np.einsum\n",
    "\n",
    "## Useful Resources\n",
    "- [NumPy einsum](https://docs.scipy.org/doc/numpy/reference/generated/numpy.einsum.html)\n",
    "- [A basic introduction to NumPy's einsum](http://ajcr.net/Basic-guide-to-einsum/)"
   ]
  },
  {
   "cell_type": "code",
   "execution_count": null,
   "metadata": {},
   "outputs": [],
   "source": [
    "import numpy as np"
   ]
  },
  {
   "cell_type": "markdown",
   "metadata": {},
   "source": [
    "## What is Einstein notation?\n",
    "Einstein notation is a notational convention that simplifies expressions containing vectors, matrices, or tensors.\n",
    "\n",
    "\"I have made a great discovery in mathematics; I have suppressed the summation sign every time that the summation must be made over an index which occurs twice...\" ~ Einstein (Kollros 1956; Pais 1982, p. 216).\n",
    "\n",
    "### Vector Example\n",
    "Let's have two three dimensional vectors $\\textbf{A}$ and  $\\textbf{B}$:\n",
    "$$\\textbf{A} = A_x \\hat{x} + A_y \\hat{y} + A_z \\hat{z}$$\n",
    "$$\\textbf{B} = B_x \\hat{x} + B_y \\hat{y} + B_z \\hat{z}$$\n",
    "\n",
    "If we wanted to do the dot product of $\\textbf{A}$ and  $\\textbf{B}$ we would have:\n",
    "$$\\textbf{A}\\cdot \\textbf{B} = A_x B_x + A_y B_y + A_z B_z$$\n",
    "\n",
    "This gives us a scalar that is the sum of the products:\n",
    "$$\\textbf{A}\\cdot \\textbf{B} = \\sum_{i=1}^{N} A_i B_i \\quad \\textrm{where} \\quad N = 3$$"
   ]
  },
  {
   "cell_type": "code",
   "execution_count": null,
   "metadata": {},
   "outputs": [],
   "source": [
    "A = np.array([1, 2, 3])\n",
    "B = np.array([4, 5, 6])"
   ]
  },
  {
   "cell_type": "code",
   "execution_count": null,
   "metadata": {},
   "outputs": [],
   "source": [
    "np.sum(np.multiply(A, B))"
   ]
  },
  {
   "cell_type": "code",
   "execution_count": null,
   "metadata": {},
   "outputs": [],
   "source": [
    "np.einsum('i,i->', A, B)"
   ]
  },
  {
   "cell_type": "markdown",
   "metadata": {},
   "source": [
    "### Let's look at a 3x3 example"
   ]
  },
  {
   "cell_type": "code",
   "execution_count": null,
   "metadata": {},
   "outputs": [],
   "source": [
    "C = np.random.rand(3, 3)\n",
    "D = np.random.rand(3, 3)\n",
    "\n",
    "print(C)\n",
    "print('\\n')\n",
    "print(D)"
   ]
  },
  {
   "cell_type": "code",
   "execution_count": null,
   "metadata": {},
   "outputs": [],
   "source": [
    "np.sum(np.multiply(C, D)) "
   ]
  },
  {
   "cell_type": "code",
   "execution_count": null,
   "metadata": {},
   "outputs": [],
   "source": [
    "%%timeit\n",
    "np.sum(np.multiply(C, D)) "
   ]
  },
  {
   "cell_type": "code",
   "execution_count": null,
   "metadata": {},
   "outputs": [],
   "source": [
    "np.einsum('ij,ij->', C, D)"
   ]
  },
  {
   "cell_type": "code",
   "execution_count": null,
   "metadata": {
    "scrolled": true
   },
   "outputs": [],
   "source": [
    "%%timeit\n",
    "np.einsum('ij,ij->', C, D)"
   ]
  },
  {
   "cell_type": "markdown",
   "metadata": {},
   "source": [
    "## What can Einstein notation do?\n",
    "\n",
    "| String | np equiv. | Description|\n",
    "|-|-|-|\n",
    "| 'ij', C | C | returns C |\n",
    "| 'ji', C | C.T | transpose of C |\n",
    "| 'ii->i', C | np.diag(C) | returns diagonal |\n",
    "| 'ii', C | np.trace(C) | returns trace |\n",
    "| 'ij->', C | np.sum(C) | sum of C |\n",
    "| 'ij->j', C | np.sum(C, axis=0) | sum down columns of C |\n",
    "| 'ij,ij->ij', C, D | C * D | element-wise multiplication of C and D |\n",
    "| 'ij,jk', C, D | C.dot(D) | matrix multiplication of C and D |\n",
    "\n",
    "[For more](http://ajcr.net/Basic-guide-to-einsum/)\n",
    "\n",
    "## Try your hand at Einstein notation\n",
    "- sum along rows of C\n",
    "- C * D.T\n",
    "- inner product of C and D"
   ]
  },
  {
   "cell_type": "markdown",
   "metadata": {},
   "source": [
    "#### Sum along rows of C"
   ]
  },
  {
   "cell_type": "code",
   "execution_count": null,
   "metadata": {},
   "outputs": [],
   "source": []
  },
  {
   "cell_type": "markdown",
   "metadata": {},
   "source": [
    "#### C * D.T"
   ]
  },
  {
   "cell_type": "code",
   "execution_count": null,
   "metadata": {},
   "outputs": [],
   "source": []
  },
  {
   "cell_type": "markdown",
   "metadata": {},
   "source": [
    "#### Inner product of C and D"
   ]
  },
  {
   "cell_type": "code",
   "execution_count": null,
   "metadata": {},
   "outputs": [],
   "source": []
  },
  {
   "cell_type": "markdown",
   "metadata": {},
   "source": [
    "### Dot Product\n",
    "Time 4 different ways a dot product can be performed"
   ]
  },
  {
   "cell_type": "code",
   "execution_count": null,
   "metadata": {},
   "outputs": [],
   "source": [
    "%%timeit\n"
   ]
  },
  {
   "cell_type": "code",
   "execution_count": null,
   "metadata": {},
   "outputs": [],
   "source": [
    "%%timeit\n"
   ]
  },
  {
   "cell_type": "code",
   "execution_count": null,
   "metadata": {},
   "outputs": [],
   "source": [
    "%%timeit\n"
   ]
  },
  {
   "cell_type": "code",
   "execution_count": null,
   "metadata": {},
   "outputs": [],
   "source": [
    "%%timeit\n"
   ]
  }
 ],
 "metadata": {
  "kernelspec": {
   "display_name": "Python 3",
   "language": "python",
   "name": "python3"
  },
  "language_info": {
   "codemirror_mode": {
    "name": "ipython",
    "version": 3
   },
   "file_extension": ".py",
   "mimetype": "text/x-python",
   "name": "python",
   "nbconvert_exporter": "python",
   "pygments_lexer": "ipython3",
   "version": "3.6.6"
  }
 },
 "nbformat": 4,
 "nbformat_minor": 2
}
