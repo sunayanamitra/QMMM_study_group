{
 "cells": [
  {
   "cell_type": "markdown",
   "metadata": {},
   "source": [
    "## Coulomb Matrix Representation"
   ]
  },
  {
   "cell_type": "code",
   "execution_count": 1,
   "metadata": {},
   "outputs": [],
   "source": [
    "import numpy as np\n",
    "from math import sqrt"
   ]
  },
  {
   "cell_type": "markdown",
   "metadata": {},
   "source": [
    "## Useful Resources\n",
    " - [Fast and Accurate Modeling of Molecular Atomization Energies with Machine Learning](https://journals.aps.org/prl/abstract/10.1103/PhysRevLett.108.058301)\n",
    " - [Prediction Errors of Molecular Machine learning Models lower than Hybrid DFT Error](https://pubs.acs.org/doi/abs/10.1021/acs.jctc.7b00577)\n",
    " - [Understanding molecular representations in machine learning: The role of uniqueness and target similarity](https://aip.scitation.org/doi/10.1063/1.4964627)\n",
    "\n",
    "## Introduction\n",
    "For machine learning there needs to be some way to represent the data to the model in a way in which the model can infer knowledge about the data and use it for future predictions. In chemistry, the data we are trying to represent are molecules with the information we are trying to teach the model are property values for those molecules. The goal is to represent the molecule in a way that provides a detailed enough description about the underlying physics of the molecule in order to accurately predict the properties of the molecule. This has led to a lot of work to determine how to best represent the molecule for the model to learn from. One of the most simplistic ways to describe the molecule is what we are going to work on today, the Coulomb matrix.\n",
    "\n",
    "## General Theory\n",
    "The Coulomb matrix is one of the more simplistic representations used to describe the molecule. The Coulomb matrix is a square matrix with diagonal elements being the electronic potential energy of the atom and off diagonal elements being the Coulomb nuclear repulsion between atom I and J.   \n",
    "\n",
    "$$M_{IJ} =\\begin{cases}0.5Z_{I}^{2.4} &\\text{for } I = J, \\\\ \\frac{Z_I Z_J}{\\left | R_I - R_J \\right |} &\\text{for } I \\neq J.\\end{cases} $$\n",
    " \n",
    "## Setup\n",
    "1. Parse file for atoms and coordinates\n",
    "2. Build Coulomb Matrix"
   ]
  },
  {
   "cell_type": "code",
   "execution_count": 2,
   "metadata": {},
   "outputs": [],
   "source": [
    "file = open('methane.xyz', 'r')\n",
    "\n",
    "doc = []\n",
    "for line in file:\n",
    "    doc.append(line)"
   ]
  },
  {
   "cell_type": "code",
   "execution_count": 3,
   "metadata": {},
   "outputs": [
    {
     "data": {
      "text/plain": [
       "[['C', '1.041682', '-0.056200', '-0.071481'],\n",
       " ['H', '2.130894', '-0.056202', '-0.071496'],\n",
       " ['H', '0.678598', '0.174941', '-1.072044'],\n",
       " ['H', '0.678613', '0.694746', '0.628980'],\n",
       " ['H', '0.678614', '-1.038285', '0.228641']]"
      ]
     },
     "execution_count": 3,
     "metadata": {},
     "output_type": "execute_result"
    }
   ],
   "source": [
    "# read number of atoms\n",
    "natoms = int(doc[0].split()[0])\n",
    "\n",
    "# parse coordinates\n",
    "coords = []\n",
    "for i in range(natoms):\n",
    "    a_coords = doc[i + 2].split()[0:4]\n",
    "    coords.append(a_coords)\n",
    "\n",
    "coords"
   ]
  },
  {
   "cell_type": "markdown",
   "metadata": {},
   "source": [
    "## What do we need for CM?\n",
    "1. Nuclear charges\n",
    "2. Calculate when $I = J$\n",
    "3. Calculate when $I \\neq J$\n",
    "4. Output lower triangle of matrix"
   ]
  },
  {
   "cell_type": "code",
   "execution_count": 4,
   "metadata": {},
   "outputs": [
    {
     "name": "stdout",
     "output_type": "stream",
     "text": [
      "[[36.8581052   0.          0.          0.          0.        ]\n",
      " [ 5.5085695   0.5         0.          0.          0.        ]\n",
      " [ 5.50857022  0.56221605  0.5         0.          0.        ]\n",
      " [ 5.50856526  0.56221405  0.56221669  0.5         0.        ]\n",
      " [ 5.50857007  0.56221611  0.56221501  0.56221777  0.5       ]]\n"
     ]
    }
   ],
   "source": [
    "# nuclear charges\n",
    "nuc = {'C': 6, 'H': 1}\n",
    "\n",
    "# build CM matrix\n",
    "mat = np.zeros((5, 5))\n",
    "for i in range(5):\n",
    "    for j in range(i, 5):\n",
    "        zi = nuc[coords[i][0]]  # nuc['C'] = 6\n",
    "        zj = nuc[coords[j][0]]\n",
    "        if i == j:\n",
    "            mii = 0.5 * zi ** 2.4\n",
    "            mat[i, i] = mii\n",
    "\n",
    "        else:\n",
    "            # mij = zizj/rij\n",
    "            # rij = sqrt((xi - xj)^2 + (yi - yj)^2 + (zi - zj)^2)\n",
    "            x = float(coords[i][1]) - float(coords[j][1])\n",
    "            y = float(coords[i][2]) - float(coords[j][2])\n",
    "            z = float(coords[i][3]) - float(coords[j][3])\n",
    "            rij = sqrt((x ** 2) + (y ** 2) + (z ** 2))\n",
    "            mij = (zi * zj) / rij\n",
    "\n",
    "            mat[j, i] = mij\n",
    "\n",
    "print(mat)"
   ]
  },
  {
   "cell_type": "code",
   "execution_count": 5,
   "metadata": {
    "scrolled": true
   },
   "outputs": [
    {
     "data": {
      "text/plain": [
       "array([36.8581052 ,  5.5085695 ,  0.5       ,  5.50857022,  0.56221605,\n",
       "        0.5       ,  5.50856526,  0.56221405,  0.56221669,  0.5       ,\n",
       "        5.50857007,  0.56221611,  0.56221501,  0.56221777,  0.5       ])"
      ]
     },
     "execution_count": 5,
     "metadata": {},
     "output_type": "execute_result"
    }
   ],
   "source": [
    "# return the lower trinagle of the CM as a vector\n",
    "mat = mat[np.tril_indices(natoms)]\n",
    "mat"
   ]
  },
  {
   "cell_type": "markdown",
   "metadata": {},
   "source": [
    "## What if we wanted this as a function so we could do multiple molecules?"
   ]
  },
  {
   "cell_type": "code",
   "execution_count": 6,
   "metadata": {},
   "outputs": [],
   "source": [
    "def cm(natoms, coords, size):\n",
    "    '''\n",
    "    Paramters\n",
    "    ---------\n",
    "    natoms: int\n",
    "        number of atoms in the molecule\n",
    "    coords: \n",
    "        molecule coordinates\n",
    "    size: int\n",
    "        size of CM matrix\n",
    "    Returns\n",
    "    -------\n",
    "    mat: triangle matrix\n",
    "        triangle CM matrix\n",
    "    '''\n",
    "    # build CM matrix\n",
    "    mat = np.zeros((size, size))\n",
    "    for i in range(natoms):\n",
    "        for j in range(i, natoms):\n",
    "            zi = nuc[coords[i][0]]  # nuc['C'] = 6\n",
    "            zj = nuc[coords[j][0]]\n",
    "            if i == j:\n",
    "                mii = 0.5 * zi ** 2.4\n",
    "                mat[i, i] = mii\n",
    "\n",
    "            else:\n",
    "                # mij = zizj/rij\n",
    "                # rij = sqrt((xi - xj)^2 + (yi - yj)^2 + (zi - zj)^2)\n",
    "                x = float(coords[i][1]) - float(coords[j][1])\n",
    "                y = float(coords[i][2]) - float(coords[j][2])\n",
    "                z = float(coords[i][3]) - float(coords[j][3])\n",
    "                rij = sqrt((x ** 2) + (y ** 2) + (z ** 2))\n",
    "                mij = (zi * zj) / rij\n",
    "\n",
    "                mat[j, i] = mij\n",
    "\n",
    "    # return the lower trinagle of the CM as a vector\n",
    "    mat = mat[np.tril_indices(natoms)]\n",
    "\n",
    "    return mat"
   ]
  },
  {
   "cell_type": "code",
   "execution_count": 7,
   "metadata": {},
   "outputs": [
    {
     "data": {
      "text/plain": [
       "array([36.8581052 ,  5.5085695 ,  0.5       ,  5.50857022,  0.56221605,\n",
       "        0.5       ,  5.50856526,  0.56221405,  0.56221669,  0.5       ,\n",
       "        5.50857007,  0.56221611,  0.56221501,  0.56221777,  0.5       ])"
      ]
     },
     "execution_count": 7,
     "metadata": {},
     "output_type": "execute_result"
    }
   ],
   "source": [
    "cm(natoms, coords, size=29)"
   ]
  },
  {
   "cell_type": "markdown",
   "metadata": {},
   "source": [
    "## If this interests you, feel free to help out with [chemreps](https://github.com/dlf57/chemreps)!"
   ]
  }
 ],
 "metadata": {
  "kernelspec": {
   "display_name": "Python 3",
   "language": "python",
   "name": "python3"
  },
  "language_info": {
   "codemirror_mode": {
    "name": "ipython",
    "version": 3
   },
   "file_extension": ".py",
   "mimetype": "text/x-python",
   "name": "python",
   "nbconvert_exporter": "python",
   "pygments_lexer": "ipython3",
   "version": "3.6.6"
  },
  "varInspector": {
   "cols": {
    "lenName": 16,
    "lenType": 16,
    "lenVar": 40
   },
   "kernels_config": {
    "python": {
     "delete_cmd_postfix": "",
     "delete_cmd_prefix": "del ",
     "library": "var_list.py",
     "varRefreshCmd": "print(var_dic_list())"
    },
    "r": {
     "delete_cmd_postfix": ") ",
     "delete_cmd_prefix": "rm(",
     "library": "var_list.r",
     "varRefreshCmd": "cat(var_dic_list()) "
    }
   },
   "types_to_exclude": [
    "module",
    "function",
    "builtin_function_or_method",
    "instance",
    "_Feature"
   ],
   "window_display": false
  }
 },
 "nbformat": 4,
 "nbformat_minor": 2
}
