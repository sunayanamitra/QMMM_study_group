{
 "cells": [
  {
   "cell_type": "markdown",
   "metadata": {},
   "source": [
    "# MP2"
   ]
  },
  {
   "cell_type": "markdown",
   "metadata": {},
   "source": [
    "## Some useful resources:\n",
    " - [original paper](https://journals.aps.org/pr/abstract/10.1103/PhysRev.46.618)\n",
    " - Levine Chapter 16\n",
    " - [psi4numpy tutorial](https://github.com/psi4/psi4numpy/blob/master/Tutorials/05_Moller-Plesset/5a_conventional-mp2.ipynb)\n",
    " - [Crawdad programming notes](http://sirius.chem.vt.edu/wiki/doku.php?id=crawdad:programming:project4)"
   ]
  },
  {
   "cell_type": "markdown",
   "metadata": {},
   "source": [
    "# MP2 algorithm\n",
    "1. The starting point will be the Hartree-Fock wavefunction"
   ]
  },
  {
   "cell_type": "markdown",
   "metadata": {},
   "source": [
    "## Imports"
   ]
  },
  {
   "cell_type": "code",
   "execution_count": null,
   "metadata": {},
   "outputs": [],
   "source": [
    "import numpy as np\n",
    "import scipy.linalg as spla\n",
    "import psi4\n",
    "import matplotlib.pyplot as plt\n",
    "import time\n",
    "%matplotlib notebook"
   ]
  },
  {
   "cell_type": "markdown",
   "metadata": {},
   "source": [
    "## Specify the molecule"
   ]
  },
  {
   "cell_type": "code",
   "execution_count": null,
   "metadata": {},
   "outputs": [],
   "source": [
    "# start timer\n",
    "start_time = time.time()\n",
    "# define molecule\n",
    "mol = psi4.geometry(\"\"\"\n",
    "O 0.0000000 0.0000000 0.0000000\n",
    "H 0.7569685 0.0000000 -0.5858752\n",
    "H -0.7569685 0.0000000 -0.5858752\n",
    "symmetry c1\n",
    "\"\"\")\n",
    "psi4.set_options({'basis': 'sto-3g'})\n",
    "wfn = psi4.core.Wavefunction.build(mol, psi4.core.get_global_option('BASIS'))\n",
    "mints = psi4.core.MintsHelper(wfn.basisset())\n",
    "# get number of electrons\n",
    "num_elec_alpha =  wfn.nalpha()\n",
    "num_elec_beta =  wfn.nbeta()\n",
    "num_elec = num_elec_alpha + num_elec_beta\n",
    "# get nuclear repulsion energy\n",
    "E_nuc =  mol.nuclear_repulsion_energy()"
   ]
  },
  {
   "cell_type": "markdown",
   "metadata": {},
   "source": [
    "# STEP 2 : Calculate molecular integrals \n",
    "\n",
    "Overlap \n",
    "\n",
    "$$ S_{\\mu\\nu} = (\\mu|\\nu) = \\int dr \\phi^*_{\\mu}(r) \\phi_{\\nu}(r) $$\n",
    "\n",
    "Kinetic\n",
    "\n",
    "$$ T_{\\mu\\nu} = (\\mu\\left|-\\frac{\\nabla}{2}\\right|\\nu) = \\int dr \\phi^*_{\\mu}(r) \\left(-\\frac{\\nabla}{2}\\right) \\phi_{\\nu}(r) $$\n",
    "\n",
    "Nuclear Attraction\n",
    "\n",
    "$$ V_{\\mu\\nu} = (\\mu|r^{-1}|\\nu) = \\int dr \\phi^*_{\\mu}(r) r^{-1} \\phi_{\\nu}(r) $$\n",
    "\n",
    "Form Core Hamiltonian\n",
    "\n",
    "$$ H = T + V $$\n",
    "\n",
    "Two electron integrals\n",
    "\n",
    "$$ (\\mu\\nu|\\lambda\\sigma) = \\int dr_1 dr_2 \\phi^*_{\\mu}(r_1) \\phi_{\\nu}(r_1) r_{12}^{-1} \\phi_{\\lambda}(r_2) \\phi_{\\sigma}(r_2) $$\n"
   ]
  },
  {
   "cell_type": "code",
   "execution_count": null,
   "metadata": {},
   "outputs": [],
   "source": [
    "# calculate overlap integrals\n",
    "S = np.asarray(mints.ao_overlap())\n",
    "# calculate kinetic energy integrals\n",
    "T = np.asarray(mints.ao_kinetic())\n",
    "# calculate nuclear attraction integrals\n",
    "V = np.asarray(mints.ao_potential())\n",
    "# form core Hamiltonian\n",
    "H = T + V\n",
    "# calculate two electron integrals\n",
    "eri = np.asarray(mints.ao_eri())\n",
    "# get number of atomic orbitals\n",
    "num_ao = np.shape(S)[0]\n",
    "\n",
    "\n",
    "\n",
    "print(np.shape(eri))"
   ]
  },
  {
   "cell_type": "code",
   "execution_count": null,
   "metadata": {},
   "outputs": [],
   "source": [
    "# set inital density matrix to zero\n",
    "D = np.zeros((num_ao,num_ao))\n",
    "\n",
    "# 2 helper functions for printing during SCF\n",
    "def print_start_iterations():\n",
    "    print(\"{:^79}\".format(\"{:>4}  {:>11}  {:>11}  {:>11}  {:>11}\".format(\"Iter\", \"Time(s)\", \"RMSC DM\", \"delta E\", \"E_scf_elec\")))\n",
    "    print(\"{:^79}\".format(\"{:>4}  {:>11}  {:>11}  {:>11}  {:>11}\".format(\"****\", \"*******\", \"*******\", \"*******\", \"******\")))\n",
    "def print_iteration(iteration_num, iteration_start_time, iteration_end_time, iteration_rmsc_dm, iteration_E_diff, E_scf_elec):\n",
    "    print(\"{:^79}\".format(\"{:>4d}  {:>11f}  {:>.5E}  {:>.5E}  {:>11f}\".format(iteration_num, iteration_end_time - iteration_start_time, iteration_rmsc_dm, iteration_E_diff, E_scf_elec)))\n",
    "\n",
    "# set stopping criteria\n",
    "iteration_max = 100\n",
    "convergence_E = 1e-9\n",
    "convergence_DM = 1e-5\n",
    "# loop variables\n",
    "iteration_num = 0\n",
    "E_scf_total = 0\n",
    "E_scf_elec = 0.0\n",
    "iteration_E_diff = 0.0\n",
    "iteration_rmsc_dm = 0.0\n",
    "converged = False\n",
    "exceeded_iterations = False\n",
    "print_start_iterations()\n",
    "while (not converged and not exceeded_iterations):\n",
    "    # store last iteration and increment counters\n",
    "    iteration_start_time = time.time()\n",
    "    iteration_num += 1\n",
    "    E_elec_last = E_scf_elec\n",
    "    D_last = np.copy(D)\n",
    "    # form G matrix\n",
    "    G = np.zeros((num_ao,num_ao))\n",
    "    for i in range(num_ao):\n",
    "        for j in range(num_ao):\n",
    "            for k in range(num_ao):\n",
    "                for l in range(num_ao):\n",
    "                    G[i,j] += D[k,l] * ((2.0*(eri[i,j,k,l])) - (eri[i,k,j,l]))\n",
    "    # build fock matrix\n",
    "    F  = H + G\n",
    "    # solve the generalized eigenvalue problem\n",
    "    E_orbitals, C = spla.eigh(F,S)\n",
    "    # compute new density matrix\n",
    "    D = np.zeros((num_ao,num_ao))\n",
    "    for i in range(num_ao):\n",
    "        for j in range(num_ao):\n",
    "            for k in range(num_elec_alpha):\n",
    "                D[i,j] +=  C[i,k] * C[j,k]\n",
    "    # calculate electronic energy\n",
    "    E_scf_elec = np.sum(np.multiply(D , (H +  F)))\n",
    "    # calculate energy change of iteration\n",
    "    iteration_E_diff = np.abs(E_scf_elec - E_elec_last)\n",
    "    # rms change of density matrix\n",
    "    iteration_rmsc_dm = np.sqrt(np.sum((D - D_last)**2))\n",
    "    iteration_end_time = time.time()\n",
    "    print_iteration(iteration_num, iteration_start_time, iteration_end_time, iteration_rmsc_dm, iteration_E_diff, E_scf_elec)\n",
    "    if(np.abs(iteration_E_diff) < convergence_E and iteration_rmsc_dm < convergence_DM): \n",
    "        converged = True\n",
    "    if(iteration_num == iteration_max):\n",
    "        exceeded_iterations = True\n",
    "\n",
    "# calculate total energy\n",
    "E_scf_total = E_scf_elec + E_nuc\n",
    "print(\"{:^79}\".format(\"Total HF energy : {:>11f}\".format(E_scf_total)))"
   ]
  },
  {
   "cell_type": "markdown",
   "metadata": {},
   "source": [
    "# Perform MP2 calculation"
   ]
  },
  {
   "cell_type": "markdown",
   "metadata": {},
   "source": [
    "## Convert the two-electron integrals from AO basis to the MO basis\n",
    "\n",
    "$$(pq|rs) = \\sum_\\mu \\sum_\\nu \\sum_\\lambda \\sum_\\sigma C_\\mu^p C_\\nu^q\n",
    "(\\mu \\nu|\\lambda \\sigma) C_\\lambda^r C_\\sigma^s.$$\n",
    "\n",
    "This is implemented in the cell block below. There are a few ways to implement this, below is by far the worst. The algorithm coded below is the naive approach known as the Noddy algorithm. This algorithm scales as $N^8$, although MP2 is formally known to scale as $N^5$; however. The Noddy algorithm is a great starting point."
   ]
  },
  {
   "cell_type": "code",
   "execution_count": null,
   "metadata": {},
   "outputs": [],
   "source": [
    "noddy_start = time.time()\n",
    "eri_mo = np.zeros((num_ao, num_ao, num_ao, num_ao))\n",
    "for p in range(num_ao):\n",
    "    for q in range(num_ao):\n",
    "        for r in range(num_ao):\n",
    "            for s in range(num_ao):\n",
    "                for mu in range(num_ao):\n",
    "                    for nu in range(num_ao):\n",
    "                        for lmda in range(num_ao):\n",
    "                            for sigma in range(num_ao):\n",
    "                                eri_mo[p, q, r, s] += C[mu, p]*C[nu, q]*C[lmda,r]*C[sigma, s]*eri[mu, nu, lmda, sigma]\n",
    "                    \n",
    "noddy_end = time.time()\n",
    "noddy_time = noddy_end - noddy_start\n",
    "print(noddy_time)"
   ]
  },
  {
   "cell_type": "markdown",
   "metadata": {},
   "source": [
    "### Compute the MP2 Energy\n",
    "Now we can calculate the MP2 estimation of the correlation energy. \n",
    "$$E_{\\mathrm{corr(MP2)}}\\ =\\ \\frac{( ia \\mid jb ) [ 2 (ia \\mid jb ) - ( ib \\mid ja )]}{\\epsilon_i + \\epsilon_j + \\epsilon_a - \\epsilon_b}$$"
   ]
  },
  {
   "cell_type": "code",
   "execution_count": null,
   "metadata": {},
   "outputs": [],
   "source": [
    "E_corr_mp2 = 0\n",
    "for i in range(num_elec_alpha):\n",
    "    for j in range(num_elec_alpha):\n",
    "        for a in range(num_elec_alpha, num_ao):\n",
    "            for b in range(num_elec_alpha, num_ao):\n",
    "                temp = eri_mo[i, a, j, b] * \\\n",
    "                    (2*eri_mo[i, a, j, b] - eri_mo[i, b, j, a])\n",
    "                temp /= (E_orbitals[i] + E_orbitals[j] - E_orbitals[a] - E_orbitals[b])\n",
    "                E_corr_mp2 += temp\n",
    "                \n",
    "print(\"{:^79}\".format(\"Total MP2 correlation energy : {:>11f}\".format(E_corr_mp2)))"
   ]
  },
  {
   "cell_type": "markdown",
   "metadata": {},
   "source": [
    "The correlation energy is very small compared to the total energy, which is generally the case. However, this correlation energy can be very important to describing properties such as dispersion. "
   ]
  },
  {
   "cell_type": "markdown",
   "metadata": {},
   "source": [
    "## A comparison with Psi4"
   ]
  },
  {
   "cell_type": "code",
   "execution_count": null,
   "metadata": {},
   "outputs": [],
   "source": [
    "# Get the SCF wavefunction & energies# Get t \n",
    "scf_e, scf_wfn = psi4.energy('scf', return_wfn=True)\n",
    "mp2_e = psi4.energy('mp2')\n",
    "print(mp2_e)\n",
    "\n",
    "E_diff = (mp2_e - (E_scf_total + E_corr_mp2)) \n",
    "print(E_diff)"
   ]
  },
  {
   "cell_type": "markdown",
   "metadata": {},
   "source": [
    "### An implementation of the smart algorithm"
   ]
  },
  {
   "cell_type": "code",
   "execution_count": null,
   "metadata": {},
   "outputs": [],
   "source": [
    "# nbasis, norb = C.shape\n",
    "import time\n",
    "\n",
    "smart_start = time.time()\n",
    "sump = np.zeros((num_ao,num_ao,num_ao,num_ao))\n",
    "for mu in range(num_ao):\n",
    "    sumq = np.zeros((num_ao,num_ao,num_ao))\n",
    "    for nu in range(num_ao):\n",
    "        sumr = np.zeros((num_ao,num_ao))\n",
    "        for lmda in range(num_ao):\n",
    "            sums = np.zeros((num_ao))\n",
    "            for sigma in range(num_ao):\n",
    "                for s in range(num_ao):\n",
    "                    sums[s] += C[sigma,s]*eri[mu,nu,lmda,sigma]\n",
    "            for r in range(num_ao):\n",
    "                for s in range(num_ao):\n",
    "                    sumr[r,s] += C[lmda,r]*sums[s]\n",
    "        for q in range(num_ao):\n",
    "            for r in range(num_ao):\n",
    "                for s in range(num_ao):\n",
    "                    sumq[q,r,s] += C[nu,q]*sumr[r,s]\n",
    "    for p in range(num_ao):\n",
    "        for q in range(num_ao):\n",
    "            for r in range(num_ao):\n",
    "                for s in range(num_ao):\n",
    "                    sump[p,q,r,s] += C[mu,p]*sumq[q,r,s]\n",
    "eri_mo = sump\n",
    "\n",
    "smart_end = time.time()\n",
    "smart_time = smart_end -smart_start\n",
    "print(smart_time)"
   ]
  },
  {
   "cell_type": "code",
   "execution_count": null,
   "metadata": {},
   "outputs": [],
   "source": [
    "E_corr_mp2 = 0\n",
    "for i in range(num_elec_alpha):\n",
    "    for j in range(num_elec_alpha):\n",
    "        for a in range(num_elec_alpha, num_ao):\n",
    "            for b in range(num_elec_alpha, num_ao):\n",
    "                temp = eri_mo[i, a, j, b] * \\\n",
    "                    (2*eri_mo[i, a, j, b] - eri_mo[i, b, j, a])\n",
    "                temp /= (E_orbitals[i] + E_orbitals[j] - E_orbitals[a] - E_orbitals[b])\n",
    "                E_corr_mp2 += temp\n",
    "                \n",
    "print(\"{:^79}\".format(\"Total MP2 correlation energy : {:>11f}\".format(E_corr_mp2)))"
   ]
  },
  {
   "cell_type": "markdown",
   "metadata": {},
   "source": [
    "# algorithm time comparison"
   ]
  },
  {
   "cell_type": "code",
   "execution_count": null,
   "metadata": {},
   "outputs": [],
   "source": [
    "ns_time = noddy_time/smart_time\n",
    "print(ns_time)"
   ]
  },
  {
   "cell_type": "code",
   "execution_count": null,
   "metadata": {},
   "outputs": [],
   "source": []
  }
 ],
 "metadata": {
  "kernelspec": {
   "display_name": "Python 3",
   "language": "python",
   "name": "python3"
  },
  "language_info": {
   "codemirror_mode": {
    "name": "ipython",
    "version": 3
   },
   "file_extension": ".py",
   "mimetype": "text/x-python",
   "name": "python",
   "nbconvert_exporter": "python",
   "pygments_lexer": "ipython3",
   "version": "3.6.6"
  }
 },
 "nbformat": 4,
 "nbformat_minor": 2
}
