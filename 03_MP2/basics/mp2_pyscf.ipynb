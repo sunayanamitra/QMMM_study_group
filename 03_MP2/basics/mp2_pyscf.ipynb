{
 "cells": [
  {
   "cell_type": "markdown",
   "metadata": {},
   "source": [
    "# MP2"
   ]
  },
  {
   "cell_type": "markdown",
   "metadata": {},
   "source": [
    "## Some useful resources:\n",
    " - [original paper](https://journals.aps.org/pr/abstract/10.1103/PhysRev.46.618)\n",
    " - Levine Chapter 16\n",
    " - [psi4numpy tutorial](https://github.com/psi4/psi4numpy/blob/master/Tutorials/05_Moller-Plesset/5a_conventional-mp2.ipynb)\n",
    " - [Crawdad programming notes](http://sirius.chem.vt.edu/wiki/doku.php?id=crawdad:programming:project4)"
   ]
  },
  {
   "cell_type": "markdown",
   "metadata": {},
   "source": [
    "# MP2 algorithm\n",
    "1. The starting point will be the Hartree-Fock wavefunction. "
   ]
  },
  {
   "cell_type": "markdown",
   "metadata": {},
   "source": [
    "## Imports"
   ]
  },
  {
   "cell_type": "code",
   "execution_count": null,
   "metadata": {},
   "outputs": [],
   "source": [
    "import numpy as np\n",
    "import scipy.linalg as spla\n",
    "import pyscf\n",
    "import matplotlib.pyplot as plt\n",
    "import time\n",
    "%matplotlib notebook"
   ]
  },
  {
   "cell_type": "markdown",
   "metadata": {},
   "source": [
    "## Specify the molecule"
   ]
  },
  {
   "cell_type": "code",
   "execution_count": null,
   "metadata": {},
   "outputs": [],
   "source": [
    "# start timer\n",
    "start_time = time.time()\n",
    "# define molecule\n",
    "mol = pyscf.gto.M(\n",
    "    atom=\"O 0.0000000 0.0000000 0.0000000; H 0.7569685 0.0000000 -0.5858752; H -0.7569685 0.0000000 -0.5858752\",\n",
    "    basis='sto-3g',\n",
    "    unit=\"Ang\",\n",
    "    verbose=0,\n",
    "    symmetry=False,\n",
    "    spin=0,\n",
    "    charge=0\n",
    ")\n",
    "# get number of atomic orbitals\n",
    "num_ao = mol.nao_nr()\n",
    "# get number of electrons\n",
    "num_elec_alpha, num_elec_beta = mol.nelec\n",
    "num_elec = num_elec_alpha + num_elec_beta\n",
    "# get nuclear repulsion energy\n",
    "E_nuc = mol.energy_nuc()"
   ]
  },
  {
   "cell_type": "markdown",
   "metadata": {},
   "source": [
    "## Calculate molecular integrals \n",
    "\n",
    "\n",
    "Overlap \n",
    "\n",
    "$$ S_{\\mu\\nu} = (\\mu|\\nu) = \\int dr \\phi^*_{\\mu}(r) \\phi_{\\nu}(r) $$\n",
    "\n",
    "Kinetic\n",
    "\n",
    "$$ T_{\\mu\\nu} = (\\mu\\left|-\\frac{\\nabla}{2}\\right|\\nu) = \\int dr \\phi^*_{\\mu}(r) \\left(-\\frac{\\nabla}{2}\\right) \\phi_{\\nu}(r) $$\n",
    "\n",
    "Nuclear Attraction\n",
    "\n",
    "$$ V_{\\mu\\nu} = (\\mu|r^{-1}|\\nu) = \\int dr \\phi^*_{\\mu}(r) r^{-1} \\phi_{\\nu}(r) $$\n",
    "\n",
    "Form Core Hamiltonian\n",
    "\n",
    "$$ H = T + V $$\n",
    "\n",
    "Two electron integrals\n",
    "\n",
    "$$ (\\mu\\nu|\\lambda\\sigma) = \\int dr_1 dr_2 \\phi^*_{\\mu}(r_1) \\phi_{\\nu}(r_1) r_{12}^{-1} \\phi^*_{\\lambda}(r_2) \\phi_{\\sigma}(r_2) $$\n"
   ]
  },
  {
   "cell_type": "code",
   "execution_count": null,
   "metadata": {},
   "outputs": [],
   "source": [
    "# calculate overlap integrals\n",
    "S = mol.intor('cint1e_ovlp_sph')\n",
    "# calculate kinetic energy integrals\n",
    "T = mol.intor('cint1e_kin_sph')\n",
    "# calculate nuclear attraction integrals\n",
    "V = mol.intor('cint1e_nuc_sph')\n",
    "# form core Hamiltonian\n",
    "H = T + V\n",
    "# calculate two electron integrals\n",
    "eri = mol.intor('cint2e_sph', aosym='s8')\n",
    "# since we are using the 8 fold symmetry of the 2 electron integrals\n",
    "# the functions below will help us when accessing elements\n",
    "__idx2_cache = {}\n",
    "\n",
    "\n",
    "def idx2(i, j):\n",
    "    if (i, j) in __idx2_cache:\n",
    "        return __idx2_cache[i, j]\n",
    "    elif i >= j:\n",
    "        __idx2_cache[i, j] = int(i*(i+1)/2+j)\n",
    "    else:\n",
    "        __idx2_cache[i, j] = int(j*(j+1)/2+i)\n",
    "    return __idx2_cache[i, j]\n",
    "\n",
    "\n",
    "def idx4(i, j, k, l):\n",
    "    return idx2(idx2(i, j), idx2(k, l))\n",
    "\n",
    "\n",
    "print(np.shape(eri))"
   ]
  },
  {
   "cell_type": "markdown",
   "metadata": {},
   "source": [
    "## Perform Hartree-Fock SCF"
   ]
  },
  {
   "cell_type": "code",
   "execution_count": null,
   "metadata": {},
   "outputs": [],
   "source": [
    "# set inital density matrix to zero\n",
    "D = np.zeros((num_ao, num_ao))\n",
    "\n",
    "# 2 helper functions for printing during SCF\n",
    "\n",
    "\n",
    "def print_start_iterations():\n",
    "    print(\"{:^79}\".format(\"{:>4}  {:>11}  {:>11}  {:>11}  {:>11}\".format(\n",
    "        \"Iter\", \"Time(s)\", \"RMSC DM\", \"delta E\", \"E_elec\")))\n",
    "    print(\"{:^79}\".format(\"{:>4}  {:>11}  {:>11}  {:>11}  {:>11}\".format(\n",
    "        \"****\", \"*******\", \"*******\", \"*******\", \"******\")))\n",
    "\n",
    "\n",
    "def print_iteration(iteration_num, iteration_start_time, iteration_end_time, iteration_rmsc_dm, iteration_E_diff, E_elec):\n",
    "    print(\"{:^79}\".format(\"{:>4d}  {:>11f}  {:>.5E}  {:>.5E}  {:>11f}\".format(iteration_num,\n",
    "                                                                              iteration_end_time - iteration_start_time, iteration_rmsc_dm, iteration_E_diff, E_elec)))\n",
    "\n",
    "\n",
    "# set stopping criteria\n",
    "iteration_max = 100\n",
    "convergence_E = 1e-9\n",
    "convergence_DM = 1e-5\n",
    "# loop variables\n",
    "iteration_num = 0\n",
    "E_scf_total = 0\n",
    "E_scf_elec = 0.0\n",
    "iteration_E_diff = 0.0\n",
    "iteration_rmsc_dm = 0.0\n",
    "converged = False\n",
    "exceeded_iterations = False\n",
    "\n",
    "print_start_iterations()\n",
    "while (not converged and not exceeded_iterations):\n",
    "    # store last iteration and increment counters\n",
    "    iteration_start_time = time.time()\n",
    "    iteration_num += 1\n",
    "    E_elec_last = E_scf_elec\n",
    "    D_last = np.copy(D)\n",
    "    # form G matrix\n",
    "    G = np.zeros((num_ao, num_ao))\n",
    "    for i in range(num_ao):\n",
    "        for j in range(num_ao):\n",
    "            for k in range(num_ao):\n",
    "                for l in range(num_ao):\n",
    "                    G[i, j] += D[k, l] * \\\n",
    "                        ((2.0*(eri[idx4(i, j, k, l)])) -\n",
    "                         (eri[idx4(i, k, j, l)]))\n",
    "    # build fock matrix\n",
    "    F = H + G\n",
    "    # solve the generalized eigenvalue problem\n",
    "    E_orbitals, C = spla.eigh(F, S)\n",
    "    # compute new density matrix\n",
    "    D = np.zeros((num_ao, num_ao))\n",
    "    for i in range(num_ao):\n",
    "        for j in range(num_ao):\n",
    "            for k in range(num_elec_alpha):\n",
    "                D[i, j] += C[i, k] * C[j, k]\n",
    "    # calculate electronic energy\n",
    "    E_scf_elec = np.sum(np.multiply(D, (H + F)))\n",
    "    # calculate energy change of iteration\n",
    "    iteration_E_diff = np.abs(E_scf_elec - E_elec_last)\n",
    "    # rms change of density matrix\n",
    "    iteration_rmsc_dm = np.sqrt(np.sum((D - D_last)**2))\n",
    "    iteration_end_time = time.time()\n",
    "    print_iteration(iteration_num, iteration_start_time,\n",
    "                    iteration_end_time, iteration_rmsc_dm, iteration_E_diff, E_scf_elec)\n",
    "    if(np.abs(iteration_E_diff) < convergence_E and iteration_rmsc_dm < convergence_DM):\n",
    "        converged = True\n",
    "    if(iteration_num == iteration_max):\n",
    "        exceeded_iterations = True\n",
    "\n",
    "# calculate total energy\n",
    "E_scf_total = E_scf_elec + E_nuc\n",
    "print(\"{:^79}\".format(\"Total HF Energy : {:>11f}\".format(E_scf_total)))"
   ]
  },
  {
   "cell_type": "code",
   "execution_count": null,
   "metadata": {},
   "outputs": [],
   "source": []
  },
  {
   "cell_type": "markdown",
   "metadata": {},
   "source": [
    "# Perform MP2 calculation"
   ]
  },
  {
   "cell_type": "markdown",
   "metadata": {},
   "source": [
    "## Convert the two-electron integrals from AO basis to the MO basis\n",
    "\n",
    "$$(pq|rs) = \\sum_\\mu \\sum_\\nu \\sum_\\lambda \\sum_\\sigma C_\\mu^p C_\\nu^q\n",
    "(\\mu \\nu|\\lambda \\sigma) C_\\lambda^r C_\\sigma^s.$$\n",
    "\n",
    "\n",
    "Attempt to code this conversion below. Although this was introduced previously, we want to remention a note about the electron repulsion integrals. The electron repulsion integrals are stored as vector `eri`. This vector represent what would otherwise be a 4-D tensor. The reason we can store it as a vector is that there is symmetry present for the two-electron integrals and pyscf incorporates that. Thus we access our integrals using a helper function we have written for you, `idx_4` above which will turn the 4 index into the correct index for the pyscf data structure. For example:\n",
    "\n",
    "To access the specific integral for $(\\phi_1\\phi_4|\\phi_7\\phi_9)$, we would use the command\n",
    "`eri[idx4(1,4,7,9)]`. This will be essential for writing the transofmration inthe code cell below and in calculating the MP2 energy afterwards.\n",
    "\n"
   ]
  },
  {
   "cell_type": "code",
   "execution_count": null,
   "metadata": {},
   "outputs": [],
   "source": [
    "## place code for two-electron integral conversion here."
   ]
  },
  {
   "cell_type": "markdown",
   "metadata": {},
   "source": [
    "### Compute the MP2 Energy\n",
    "Now we can calculate the MP2 estimation of the correlation energy. \n",
    "$$E_{\\mathrm{corr(MP2)}}\\ =\\ \\frac{( ia \\mid jb ) [ 2 (ia \\mid jb ) - ( ib \\mid ja )]}{\\epsilon_i + \\epsilon_j + \\epsilon_a - \\epsilon_b}$$\n",
    "\n",
    "Here $i$ and $j$ represent all occupied orbitals, where as $a$ and $b$ will be unoccupied orbitals. \n",
    "\n",
    "Remember during this coding step that we are basing our MP2 correction on an RHF calculation and thus there are the same amount of $\\alpha$ and $\\beta$ electrons."
   ]
  },
  {
   "cell_type": "code",
   "execution_count": null,
   "metadata": {},
   "outputs": [],
   "source": [
    "#initialize the variable forthe mp2 correlation energy\n",
    "E_corr_mp2 = 0\n",
    "# code the equation above and adjust the value of E_corr_mp2\n",
    "\n",
    "\n",
    "#this will print your E_corr mp2\n",
    "print(\"{:^79}\".format(\"Total MP2 correlation energy : {:>11f}\".format(E_corr_mp2)))"
   ]
  },
  {
   "cell_type": "markdown",
   "metadata": {},
   "source": [
    "The correlation energy is very small compared to the total energy, which is generally the case. However, this correlation energy can be very important to describing properties such as dispersion. "
   ]
  },
  {
   "cell_type": "markdown",
   "metadata": {},
   "source": [
    "## A comparison with PySCF"
   ]
  },
  {
   "cell_type": "code",
   "execution_count": null,
   "metadata": {},
   "outputs": [],
   "source": [
    "import pyscf\n",
    "m = pyscf.scf.RHF(mol)\n",
    "print('E(HF) = %g' % m.kernel())\n",
    "mp2 = pyscf.mp.MP2(m)\n",
    "E_corr_mp2_pyscf = mp2.kernel()[0]\n",
    "print('E(MP2) = {:.9g}'.format(E_corr_mp2_pyscf))"
   ]
  },
  {
   "cell_type": "code",
   "execution_count": null,
   "metadata": {},
   "outputs": [],
   "source": [
    "# comparison from pyscf\n",
    "E_diff = E_corr_mp2_pyscf - E_corr_mp2\n",
    "print(E_diff)"
   ]
  }
 ],
 "metadata": {
  "kernelspec": {
   "display_name": "Python 3",
   "language": "python",
   "name": "python3"
  },
  "language_info": {
   "codemirror_mode": {
    "name": "ipython",
    "version": 3
   },
   "file_extension": ".py",
   "mimetype": "text/x-python",
   "name": "python",
   "nbconvert_exporter": "python",
   "pygments_lexer": "ipython3",
   "version": "3.6.5"
  },
  "toc": {
   "base_numbering": 1,
   "nav_menu": {},
   "number_sections": true,
   "sideBar": true,
   "skip_h1_title": false,
   "title_cell": "Table of Contents",
   "title_sidebar": "Contents",
   "toc_cell": false,
   "toc_position": {},
   "toc_section_display": true,
   "toc_window_display": false
  }
 },
 "nbformat": 4,
 "nbformat_minor": 2
}
